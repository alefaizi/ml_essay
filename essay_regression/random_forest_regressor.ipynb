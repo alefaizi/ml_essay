{
 "cells": [
  {
   "cell_type": "markdown",
   "metadata": {},
   "source": [
    "# 0.0 Import Libriaries"
   ]
  },
  {
   "cell_type": "code",
   "execution_count": 5,
   "metadata": {},
   "outputs": [],
   "source": [
    "import pandas as pd\n",
    "import numpy as np\n",
    "\n",
    "from sklearn import metrics as mt\n",
    "from sklearn.ensemble import RandomForestRegressor\n",
    "\n",
    "import matplotlib.pyplot as plt"
   ]
  },
  {
   "cell_type": "markdown",
   "metadata": {},
   "source": [
    "# 0.1 Loading Datasets"
   ]
  },
  {
   "cell_type": "code",
   "execution_count": 2,
   "metadata": {},
   "outputs": [],
   "source": [
    "X_train = pd.read_csv(\"X_training.csv\")\n",
    "y_train = pd.read_csv(\"y_training.csv\")\n",
    "X_val = pd.read_csv(\"X_val.csv\")\n",
    "y_val = pd.read_csv(\"y_val.csv\")\n",
    "X_test = pd.read_csv(\"X_test.csv\")\n",
    "y_test = pd.read_csv(\"y_test.csv\")"
   ]
  },
  {
   "cell_type": "code",
   "execution_count": 3,
   "metadata": {},
   "outputs": [
    {
     "data": {
      "text/html": [
       "<div>\n",
       "<style scoped>\n",
       "    .dataframe tbody tr th:only-of-type {\n",
       "        vertical-align: middle;\n",
       "    }\n",
       "\n",
       "    .dataframe tbody tr th {\n",
       "        vertical-align: top;\n",
       "    }\n",
       "\n",
       "    .dataframe thead th {\n",
       "        text-align: right;\n",
       "    }\n",
       "</style>\n",
       "<table border=\"1\" class=\"dataframe\">\n",
       "  <thead>\n",
       "    <tr style=\"text-align: right;\">\n",
       "      <th></th>\n",
       "      <th>song_duration_ms</th>\n",
       "      <th>acousticness</th>\n",
       "      <th>danceability</th>\n",
       "      <th>energy</th>\n",
       "      <th>instrumentalness</th>\n",
       "      <th>key</th>\n",
       "      <th>liveness</th>\n",
       "      <th>loudness</th>\n",
       "      <th>audio_mode</th>\n",
       "      <th>speechiness</th>\n",
       "      <th>tempo</th>\n",
       "      <th>time_signature</th>\n",
       "      <th>audio_valence</th>\n",
       "    </tr>\n",
       "  </thead>\n",
       "  <tbody>\n",
       "    <tr>\n",
       "      <th>0</th>\n",
       "      <td>0.205673</td>\n",
       "      <td>0.092100</td>\n",
       "      <td>0.720</td>\n",
       "      <td>0.802</td>\n",
       "      <td>0.000000</td>\n",
       "      <td>0.090909</td>\n",
       "      <td>0.694</td>\n",
       "      <td>0.431778</td>\n",
       "      <td>1</td>\n",
       "      <td>0.0582</td>\n",
       "      <td>0.103876</td>\n",
       "      <td>0.8</td>\n",
       "      <td>0.723</td>\n",
       "    </tr>\n",
       "    <tr>\n",
       "      <th>1</th>\n",
       "      <td>-0.240409</td>\n",
       "      <td>0.737000</td>\n",
       "      <td>0.483</td>\n",
       "      <td>0.412</td>\n",
       "      <td>0.000000</td>\n",
       "      <td>0.636364</td>\n",
       "      <td>0.116</td>\n",
       "      <td>-0.262732</td>\n",
       "      <td>1</td>\n",
       "      <td>0.0402</td>\n",
       "      <td>1.711532</td>\n",
       "      <td>0.6</td>\n",
       "      <td>0.247</td>\n",
       "    </tr>\n",
       "    <tr>\n",
       "      <th>2</th>\n",
       "      <td>-0.125770</td>\n",
       "      <td>0.274000</td>\n",
       "      <td>0.671</td>\n",
       "      <td>0.565</td>\n",
       "      <td>0.000065</td>\n",
       "      <td>1.000000</td>\n",
       "      <td>0.370</td>\n",
       "      <td>0.013612</td>\n",
       "      <td>0</td>\n",
       "      <td>0.1600</td>\n",
       "      <td>1.009176</td>\n",
       "      <td>0.8</td>\n",
       "      <td>0.561</td>\n",
       "    </tr>\n",
       "    <tr>\n",
       "      <th>3</th>\n",
       "      <td>-0.580967</td>\n",
       "      <td>0.002340</td>\n",
       "      <td>0.704</td>\n",
       "      <td>0.529</td>\n",
       "      <td>0.874000</td>\n",
       "      <td>1.000000</td>\n",
       "      <td>0.370</td>\n",
       "      <td>-0.266382</td>\n",
       "      <td>0</td>\n",
       "      <td>0.0416</td>\n",
       "      <td>0.666173</td>\n",
       "      <td>0.8</td>\n",
       "      <td>0.507</td>\n",
       "    </tr>\n",
       "    <tr>\n",
       "      <th>4</th>\n",
       "      <td>-0.688566</td>\n",
       "      <td>0.000414</td>\n",
       "      <td>0.354</td>\n",
       "      <td>0.910</td>\n",
       "      <td>0.205000</td>\n",
       "      <td>0.090909</td>\n",
       "      <td>0.456</td>\n",
       "      <td>0.422914</td>\n",
       "      <td>1</td>\n",
       "      <td>0.0430</td>\n",
       "      <td>1.182630</td>\n",
       "      <td>0.8</td>\n",
       "      <td>0.362</td>\n",
       "    </tr>\n",
       "  </tbody>\n",
       "</table>\n",
       "</div>"
      ],
      "text/plain": [
       "   song_duration_ms  acousticness  danceability  energy  instrumentalness  \\\n",
       "0          0.205673      0.092100         0.720   0.802          0.000000   \n",
       "1         -0.240409      0.737000         0.483   0.412          0.000000   \n",
       "2         -0.125770      0.274000         0.671   0.565          0.000065   \n",
       "3         -0.580967      0.002340         0.704   0.529          0.874000   \n",
       "4         -0.688566      0.000414         0.354   0.910          0.205000   \n",
       "\n",
       "        key  liveness  loudness  audio_mode  speechiness     tempo  \\\n",
       "0  0.090909     0.694  0.431778           1       0.0582  0.103876   \n",
       "1  0.636364     0.116 -0.262732           1       0.0402  1.711532   \n",
       "2  1.000000     0.370  0.013612           0       0.1600  1.009176   \n",
       "3  1.000000     0.370 -0.266382           0       0.0416  0.666173   \n",
       "4  0.090909     0.456  0.422914           1       0.0430  1.182630   \n",
       "\n",
       "   time_signature  audio_valence  \n",
       "0             0.8          0.723  \n",
       "1             0.6          0.247  \n",
       "2             0.8          0.561  \n",
       "3             0.8          0.507  \n",
       "4             0.8          0.362  "
      ]
     },
     "execution_count": 3,
     "metadata": {},
     "output_type": "execute_result"
    }
   ],
   "source": [
    "X_train.head()"
   ]
  },
  {
   "cell_type": "code",
   "execution_count": 4,
   "metadata": {},
   "outputs": [],
   "source": [
    "# Data Preparation\n",
    "y_train = y_train.values.ravel()\n",
    "y_val = y_val.values.ravel()"
   ]
  },
  {
   "cell_type": "markdown",
   "metadata": {},
   "source": [
    "# 1.0 Random Forest Regressor"
   ]
  },
  {
   "cell_type": "markdown",
   "metadata": {},
   "source": [
    "## 1.1 Training"
   ]
  },
  {
   "cell_type": "code",
   "execution_count": 16,
   "metadata": {},
   "outputs": [],
   "source": [
    "md_list = np.arange(2, 40, 1)\n",
    "r2_list = []\n",
    "mse_list = []\n",
    "rmse_list = []\n",
    "mae_list = []\n",
    "mape_list = []\n",
    "\n",
    "for i in md_list:\n",
    "    # define\n",
    "    model = RandomForestRegressor(max_depth=i)\n",
    "    # fit\n",
    "    model.fit(X_train, y_train)\n",
    "    # predict\n",
    "    yhat_train = model.predict(X_train)\n",
    "    # metrics\n",
    "    r2 = np.round(mt.r2_score(y_train, yhat_train), 3)\n",
    "    r2_list.append(r2)\n",
    "\n",
    "    mse = np.round(mt.mean_squared_error(y_train, yhat_train), 3)\n",
    "    mse_list.append(mse)\n",
    "\n",
    "    rmse = np.round(np.sqrt(mse), 3)\n",
    "    rmse_list.append(rmse)\n",
    "\n",
    "    mae = np.round(mt.mean_absolute_error(y_train, yhat_train), 3)\n",
    "    mae_list.append(mae)\n",
    "\n",
    "    mape = np.round(mt.mean_absolute_percentage_error(y_train, yhat_train), 3)\n",
    "    mape_list.append(mape)"
   ]
  },
  {
   "cell_type": "code",
   "execution_count": 17,
   "metadata": {},
   "outputs": [
    {
     "data": {
      "image/png": "[encoded data removed]",
      "text/plain": [
       "<Figure size 640x480 with 1 Axes>"
      ]
     },
     "metadata": {},
     "output_type": "display_data"
    }
   ],
   "source": [
    "plt.plot(md_list, rmse_list, '-o', label='Validation')\n",
    "plt.xlabel('max depth')\n",
    "plt.ylabel('RMSE')\n",
    "plt.legend()\n",
    "plt.show()"
   ]
  },
  {
   "cell_type": "code",
   "execution_count": 18,
   "metadata": {},
   "outputs": [],
   "source": [
    "df_results = {'Max Depth': md_list,\n",
    "              'R2': r2_list,\n",
    "              'MSE': mse_list,\n",
    "              'RMSE': rmse_list,\n",
    "              'MAE': mae_list,\n",
    "              'MAPE': mape_list}\n",
    "df_results = pd.DataFrame(df_results)"
   ]
  },
  {
   "cell_type": "code",
   "execution_count": 19,
   "metadata": {},
   "outputs": [
    {
     "data": {
      "text/plain": [
       "6.795"
      ]
     },
     "execution_count": 19,
     "metadata": {},
     "output_type": "execute_result"
    }
   ],
   "source": [
    "min(rmse_list)"
   ]
  },
  {
   "cell_type": "code",
   "execution_count": 20,
   "metadata": {},
   "outputs": [
    {
     "data": {
      "text/plain": [
       "34"
      ]
     },
     "execution_count": 20,
     "metadata": {},
     "output_type": "execute_result"
    }
   ],
   "source": [
    "# Best Max Depth Index\n",
    "best_md = rmse_list.index(min(rmse_list))\n",
    "best_md"
   ]
  },
  {
   "cell_type": "code",
   "execution_count": 21,
   "metadata": {},
   "outputs": [
    {
     "name": "stdout",
     "output_type": "stream",
     "text": [
      "R2: 0.902\n",
      "MSE: 46.628\n",
      "RMSE: 6.828\n",
      "MAE: 4.881\n",
      "MAPE: 2.614%\n"
     ]
    }
   ],
   "source": [
    "# define\n",
    "model = RandomForestRegressor(max_depth=best_md)\n",
    "# fit\n",
    "model.fit(X_train, y_train)\n",
    "# predict\n",
    "yhat_train = model.predict(X_train)\n",
    "# metrics\n",
    "r2 = np.round(mt.r2_score(y_train, yhat_train), 3)\n",
    "print(f\"R2: {r2}\")\n",
    "mse = np.round(mt.mean_squared_error(y_train, yhat_train), 3)\n",
    "print(f\"MSE: {mse}\")\n",
    "rmse = np.round(np.sqrt(mse), 3)\n",
    "print(f\"RMSE: {rmse}\")\n",
    "mae = np.round(mt.mean_absolute_error(y_train, yhat_train), 3)\n",
    "print(f\"MAE: {mae}\")\n",
    "mape = np.round(mt.mean_absolute_percentage_error(y_train, yhat_train), 3)\n",
    "print(f\"MAPE: {mape}%\")"
   ]
  },
  {
   "cell_type": "markdown",
   "metadata": {},
   "source": [
    "## 1.2 Validation"
   ]
  },
  {
   "cell_type": "code",
   "execution_count": 22,
   "metadata": {},
   "outputs": [
    {
     "name": "stdout",
     "output_type": "stream",
     "text": [
      "R2: 0.335\n",
      "MSE: 317.609\n",
      "RMSE: 17.822\n",
      "MAE: 12.985\n",
      "MAPE: 7.053%\n"
     ]
    }
   ],
   "source": [
    "# define\n",
    "model = RandomForestRegressor(max_depth=best_md)\n",
    "# fit\n",
    "model.fit(X_train, y_train)\n",
    "# predict\n",
    "yhat_val = model.predict(X_val)\n",
    "# metrics\n",
    "r2 = np.round(mt.r2_score(y_val, yhat_val), 3)\n",
    "print(f\"R2: {r2}\")\n",
    "mse = np.round(mt.mean_squared_error(y_val, yhat_val), 3)\n",
    "print(f\"MSE: {mse}\")\n",
    "rmse = np.round(np.sqrt(mse), 3)\n",
    "print(f\"RMSE: {rmse}\")\n",
    "mae = np.round(mt.mean_absolute_error(y_val, yhat_val), 3)\n",
    "print(f\"MAE: {mae}\")\n",
    "mape = np.round(mt.mean_absolute_percentage_error(y_val, yhat_val), 3)\n",
    "print(f\"MAPE: {mape}%\")"
   ]
  },
  {
   "cell_type": "markdown",
   "metadata": {},
   "source": [
    "## 1.3 Test"
   ]
  },
  {
   "cell_type": "code",
   "execution_count": 23,
   "metadata": {},
   "outputs": [
    {
     "name": "stdout",
     "output_type": "stream",
     "text": [
      "R2: 0.403\n",
      "MSE: 290.808\n",
      "RMSE: 17.053\n",
      "MAE: 12.245\n",
      "MAPE: 6.306%\n"
     ]
    },
    {
     "name": "stderr",
     "output_type": "stream",
     "text": [
      "c:\\Users\\alefa\\anaconda3\\lib\\site-packages\\sklearn\\base.py:413: UserWarning: X has feature names, but RandomForestRegressor was fitted without feature names\n",
      "  warnings.warn(\n"
     ]
    }
   ],
   "source": [
    "# define\n",
    "model = RandomForestRegressor(max_depth=best_md)\n",
    "# fit\n",
    "model.fit(np.concatenate((X_train, X_val)), np.concatenate((y_train, y_val)))\n",
    "# predict\n",
    "yhat_test = model.predict(X_test)\n",
    "# metrics\n",
    "r2 = np.round(mt.r2_score(y_test, yhat_test), 3)\n",
    "print(f\"R2: {r2}\")\n",
    "mse = np.round(mt.mean_squared_error(y_test, yhat_test), 3)\n",
    "print(f\"MSE: {mse}\")\n",
    "rmse = np.round(np.sqrt(mse), 3)\n",
    "print(f\"RMSE: {rmse}\")\n",
    "mae = np.round(mt.mean_absolute_error(y_test, yhat_test), 3)\n",
    "print(f\"MAE: {mae}\")\n",
    "mape = np.round(mt.mean_absolute_percentage_error(y_test, yhat_test), 3)\n",
    "print(f\"MAPE: {mape}%\")"
   ]
  }
 ],
 "metadata": {
  "kernelspec": {
   "display_name": "base",
   "language": "python",
   "name": "python3"
  },
  "language_info": {
   "codemirror_mode": {
    "name": "ipython",
    "version": 3
   },
   "file_extension": ".py",
   "mimetype": "text/x-python",
   "name": "python",
   "nbconvert_exporter": "python",
   "pygments_lexer": "ipython3",
   "version": "3.10.14"
  }
 },
 "nbformat": 4,
 "nbformat_minor": 2
}
