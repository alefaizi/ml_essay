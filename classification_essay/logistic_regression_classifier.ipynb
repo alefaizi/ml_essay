{
 "cells": [
  {
   "cell_type": "markdown",
   "metadata": {},
   "source": [
    "# 0.0 Import Libriaries"
   ]
  },
  {
   "cell_type": "code",
   "execution_count": 7,
   "metadata": {},
   "outputs": [],
   "source": [
    "import pandas as pd\n",
    "import numpy as np\n",
    "\n",
    "from sklearn import metrics as mt\n",
    "from sklearn.linear_model import LogisticRegression"
   ]
  },
  {
   "cell_type": "markdown",
   "metadata": {},
   "source": [
    "# 0.1 Loading Datasets"
   ]
  },
  {
   "cell_type": "code",
   "execution_count": 2,
   "metadata": {},
   "outputs": [],
   "source": [
    "X_train = pd.read_csv(\"X_training.csv\")\n",
    "y_train = pd.read_csv(\"y_training.csv\")\n",
    "X_val = pd.read_csv(\"X_validation.csv\")\n",
    "y_val = pd.read_csv(\"y_validation.csv\")\n",
    "X_test = pd.read_csv(\"X_test.csv\")\n",
    "y_test = pd.read_csv(\"y_test.csv\")"
   ]
  },
  {
   "cell_type": "code",
   "execution_count": 3,
   "metadata": {},
   "outputs": [
    {
     "data": {
      "text/html": [
       "<div>\n",
       "<style scoped>\n",
       "    .dataframe tbody tr th:only-of-type {\n",
       "        vertical-align: middle;\n",
       "    }\n",
       "\n",
       "    .dataframe tbody tr th {\n",
       "        vertical-align: top;\n",
       "    }\n",
       "\n",
       "    .dataframe thead th {\n",
       "        text-align: right;\n",
       "    }\n",
       "</style>\n",
       "<table border=\"1\" class=\"dataframe\">\n",
       "  <thead>\n",
       "    <tr style=\"text-align: right;\">\n",
       "      <th></th>\n",
       "      <th>id</th>\n",
       "      <th>customer_type</th>\n",
       "      <th>age</th>\n",
       "      <th>class</th>\n",
       "      <th>flight_distance</th>\n",
       "      <th>inflight_wifi_service</th>\n",
       "      <th>departure_arrival_time_convenient</th>\n",
       "      <th>ease_of_online_booking</th>\n",
       "      <th>gate_location</th>\n",
       "      <th>food_and_drink</th>\n",
       "      <th>...</th>\n",
       "      <th>baggage_handling</th>\n",
       "      <th>checkin_service</th>\n",
       "      <th>inflight_service</th>\n",
       "      <th>cleanliness</th>\n",
       "      <th>departure_delay_in_minutes</th>\n",
       "      <th>arrival_delay_in_minutes</th>\n",
       "      <th>gender_Female</th>\n",
       "      <th>gender_Male</th>\n",
       "      <th>type_of_travel_business_travel</th>\n",
       "      <th>type_of_travel_personal_travel</th>\n",
       "    </tr>\n",
       "  </thead>\n",
       "  <tbody>\n",
       "    <tr>\n",
       "      <th>0</th>\n",
       "      <td>13508</td>\n",
       "      <td>1</td>\n",
       "      <td>0.500000</td>\n",
       "      <td>0.0</td>\n",
       "      <td>0.039580</td>\n",
       "      <td>0.6</td>\n",
       "      <td>0.6</td>\n",
       "      <td>0.6</td>\n",
       "      <td>0.6</td>\n",
       "      <td>1.0</td>\n",
       "      <td>...</td>\n",
       "      <td>0.5</td>\n",
       "      <td>1.0</td>\n",
       "      <td>0.6</td>\n",
       "      <td>0.4</td>\n",
       "      <td>0.0</td>\n",
       "      <td>0.013848</td>\n",
       "      <td>1.0</td>\n",
       "      <td>0.0</td>\n",
       "      <td>1.0</td>\n",
       "      <td>0.0</td>\n",
       "    </tr>\n",
       "    <tr>\n",
       "      <th>1</th>\n",
       "      <td>28874</td>\n",
       "      <td>1</td>\n",
       "      <td>0.243590</td>\n",
       "      <td>0.0</td>\n",
       "      <td>0.205775</td>\n",
       "      <td>0.6</td>\n",
       "      <td>0.4</td>\n",
       "      <td>0.4</td>\n",
       "      <td>0.4</td>\n",
       "      <td>0.6</td>\n",
       "      <td>...</td>\n",
       "      <td>0.5</td>\n",
       "      <td>0.5</td>\n",
       "      <td>0.2</td>\n",
       "      <td>0.6</td>\n",
       "      <td>0.0</td>\n",
       "      <td>0.000000</td>\n",
       "      <td>0.0</td>\n",
       "      <td>1.0</td>\n",
       "      <td>1.0</td>\n",
       "      <td>0.0</td>\n",
       "    </tr>\n",
       "    <tr>\n",
       "      <th>2</th>\n",
       "      <td>21484</td>\n",
       "      <td>0</td>\n",
       "      <td>0.435897</td>\n",
       "      <td>1.0</td>\n",
       "      <td>0.026858</td>\n",
       "      <td>0.6</td>\n",
       "      <td>0.6</td>\n",
       "      <td>0.6</td>\n",
       "      <td>0.2</td>\n",
       "      <td>1.0</td>\n",
       "      <td>...</td>\n",
       "      <td>0.0</td>\n",
       "      <td>1.0</td>\n",
       "      <td>0.6</td>\n",
       "      <td>1.0</td>\n",
       "      <td>0.0</td>\n",
       "      <td>0.000000</td>\n",
       "      <td>1.0</td>\n",
       "      <td>0.0</td>\n",
       "      <td>1.0</td>\n",
       "      <td>0.0</td>\n",
       "    </tr>\n",
       "  </tbody>\n",
       "</table>\n",
       "<p>3 rows × 25 columns</p>\n",
       "</div>"
      ],
      "text/plain": [
       "      id  customer_type       age  class  flight_distance  \\\n",
       "0  13508              1  0.500000    0.0         0.039580   \n",
       "1  28874              1  0.243590    0.0         0.205775   \n",
       "2  21484              0  0.435897    1.0         0.026858   \n",
       "\n",
       "   inflight_wifi_service  departure_arrival_time_convenient  \\\n",
       "0                    0.6                                0.6   \n",
       "1                    0.6                                0.4   \n",
       "2                    0.6                                0.6   \n",
       "\n",
       "   ease_of_online_booking  gate_location  food_and_drink  ...  \\\n",
       "0                     0.6            0.6             1.0  ...   \n",
       "1                     0.4            0.4             0.6  ...   \n",
       "2                     0.6            0.2             1.0  ...   \n",
       "\n",
       "   baggage_handling  checkin_service  inflight_service  cleanliness  \\\n",
       "0               0.5              1.0               0.6          0.4   \n",
       "1               0.5              0.5               0.2          0.6   \n",
       "2               0.0              1.0               0.6          1.0   \n",
       "\n",
       "   departure_delay_in_minutes  arrival_delay_in_minutes  gender_Female  \\\n",
       "0                         0.0                  0.013848            1.0   \n",
       "1                         0.0                  0.000000            0.0   \n",
       "2                         0.0                  0.000000            1.0   \n",
       "\n",
       "   gender_Male  type_of_travel_business_travel  type_of_travel_personal_travel  \n",
       "0          0.0                             1.0                             0.0  \n",
       "1          1.0                             1.0                             0.0  \n",
       "2          0.0                             1.0                             0.0  \n",
       "\n",
       "[3 rows x 25 columns]"
      ]
     },
     "execution_count": 3,
     "metadata": {},
     "output_type": "execute_result"
    }
   ],
   "source": [
    "X_train.head(3)"
   ]
  },
  {
   "cell_type": "code",
   "execution_count": 15,
   "metadata": {},
   "outputs": [
    {
     "data": {
      "text/plain": [
       "(72515, 24)"
      ]
     },
     "execution_count": 15,
     "metadata": {},
     "output_type": "execute_result"
    }
   ],
   "source": [
    "X_train.shape"
   ]
  },
  {
   "cell_type": "code",
   "execution_count": 4,
   "metadata": {},
   "outputs": [],
   "source": [
    "# data preparation\n",
    "y_train = y_train.values.ravel()\n",
    "y_val = y_val.values.ravel()"
   ]
  },
  {
   "cell_type": "code",
   "execution_count": 5,
   "metadata": {},
   "outputs": [],
   "source": [
    "# removing column \"id\"\n",
    "X_train = X_train.drop([\"id\"], axis=1)\n",
    "X_val = X_val.drop([\"id\"], axis=1)\n",
    "X_test = X_test.drop([\"id\"], axis=1)"
   ]
  },
  {
   "cell_type": "code",
   "execution_count": 6,
   "metadata": {},
   "outputs": [
    {
     "data": {
      "text/html": [
       "<div>\n",
       "<style scoped>\n",
       "    .dataframe tbody tr th:only-of-type {\n",
       "        vertical-align: middle;\n",
       "    }\n",
       "\n",
       "    .dataframe tbody tr th {\n",
       "        vertical-align: top;\n",
       "    }\n",
       "\n",
       "    .dataframe thead th {\n",
       "        text-align: right;\n",
       "    }\n",
       "</style>\n",
       "<table border=\"1\" class=\"dataframe\">\n",
       "  <thead>\n",
       "    <tr style=\"text-align: right;\">\n",
       "      <th></th>\n",
       "      <th>customer_type</th>\n",
       "      <th>age</th>\n",
       "      <th>class</th>\n",
       "      <th>flight_distance</th>\n",
       "      <th>inflight_wifi_service</th>\n",
       "      <th>departure_arrival_time_convenient</th>\n",
       "      <th>ease_of_online_booking</th>\n",
       "      <th>gate_location</th>\n",
       "      <th>food_and_drink</th>\n",
       "      <th>online_boarding</th>\n",
       "      <th>...</th>\n",
       "      <th>baggage_handling</th>\n",
       "      <th>checkin_service</th>\n",
       "      <th>inflight_service</th>\n",
       "      <th>cleanliness</th>\n",
       "      <th>departure_delay_in_minutes</th>\n",
       "      <th>arrival_delay_in_minutes</th>\n",
       "      <th>gender_Female</th>\n",
       "      <th>gender_Male</th>\n",
       "      <th>type_of_travel_business_travel</th>\n",
       "      <th>type_of_travel_personal_travel</th>\n",
       "    </tr>\n",
       "  </thead>\n",
       "  <tbody>\n",
       "    <tr>\n",
       "      <th>0</th>\n",
       "      <td>1</td>\n",
       "      <td>0.500000</td>\n",
       "      <td>0.0</td>\n",
       "      <td>0.039580</td>\n",
       "      <td>0.6</td>\n",
       "      <td>0.6</td>\n",
       "      <td>0.6</td>\n",
       "      <td>0.6</td>\n",
       "      <td>1.0</td>\n",
       "      <td>1.0</td>\n",
       "      <td>...</td>\n",
       "      <td>0.5</td>\n",
       "      <td>1.0</td>\n",
       "      <td>0.6</td>\n",
       "      <td>0.4</td>\n",
       "      <td>0.0</td>\n",
       "      <td>0.013848</td>\n",
       "      <td>1.0</td>\n",
       "      <td>0.0</td>\n",
       "      <td>1.0</td>\n",
       "      <td>0.0</td>\n",
       "    </tr>\n",
       "    <tr>\n",
       "      <th>1</th>\n",
       "      <td>1</td>\n",
       "      <td>0.243590</td>\n",
       "      <td>0.0</td>\n",
       "      <td>0.205775</td>\n",
       "      <td>0.6</td>\n",
       "      <td>0.4</td>\n",
       "      <td>0.4</td>\n",
       "      <td>0.4</td>\n",
       "      <td>0.6</td>\n",
       "      <td>0.8</td>\n",
       "      <td>...</td>\n",
       "      <td>0.5</td>\n",
       "      <td>0.5</td>\n",
       "      <td>0.2</td>\n",
       "      <td>0.6</td>\n",
       "      <td>0.0</td>\n",
       "      <td>0.000000</td>\n",
       "      <td>0.0</td>\n",
       "      <td>1.0</td>\n",
       "      <td>1.0</td>\n",
       "      <td>0.0</td>\n",
       "    </tr>\n",
       "    <tr>\n",
       "      <th>2</th>\n",
       "      <td>0</td>\n",
       "      <td>0.435897</td>\n",
       "      <td>1.0</td>\n",
       "      <td>0.026858</td>\n",
       "      <td>0.6</td>\n",
       "      <td>0.6</td>\n",
       "      <td>0.6</td>\n",
       "      <td>0.2</td>\n",
       "      <td>1.0</td>\n",
       "      <td>0.6</td>\n",
       "      <td>...</td>\n",
       "      <td>0.0</td>\n",
       "      <td>1.0</td>\n",
       "      <td>0.6</td>\n",
       "      <td>1.0</td>\n",
       "      <td>0.0</td>\n",
       "      <td>0.000000</td>\n",
       "      <td>1.0</td>\n",
       "      <td>0.0</td>\n",
       "      <td>1.0</td>\n",
       "      <td>0.0</td>\n",
       "    </tr>\n",
       "  </tbody>\n",
       "</table>\n",
       "<p>3 rows × 24 columns</p>\n",
       "</div>"
      ],
      "text/plain": [
       "   customer_type       age  class  flight_distance  inflight_wifi_service  \\\n",
       "0              1  0.500000    0.0         0.039580                    0.6   \n",
       "1              1  0.243590    0.0         0.205775                    0.6   \n",
       "2              0  0.435897    1.0         0.026858                    0.6   \n",
       "\n",
       "   departure_arrival_time_convenient  ease_of_online_booking  gate_location  \\\n",
       "0                                0.6                     0.6            0.6   \n",
       "1                                0.4                     0.4            0.4   \n",
       "2                                0.6                     0.6            0.2   \n",
       "\n",
       "   food_and_drink  online_boarding  ...  baggage_handling  checkin_service  \\\n",
       "0             1.0              1.0  ...               0.5              1.0   \n",
       "1             0.6              0.8  ...               0.5              0.5   \n",
       "2             1.0              0.6  ...               0.0              1.0   \n",
       "\n",
       "   inflight_service  cleanliness  departure_delay_in_minutes  \\\n",
       "0               0.6          0.4                         0.0   \n",
       "1               0.2          0.6                         0.0   \n",
       "2               0.6          1.0                         0.0   \n",
       "\n",
       "   arrival_delay_in_minutes  gender_Female  gender_Male  \\\n",
       "0                  0.013848            1.0          0.0   \n",
       "1                  0.000000            0.0          1.0   \n",
       "2                  0.000000            1.0          0.0   \n",
       "\n",
       "   type_of_travel_business_travel  type_of_travel_personal_travel  \n",
       "0                             1.0                             0.0  \n",
       "1                             1.0                             0.0  \n",
       "2                             1.0                             0.0  \n",
       "\n",
       "[3 rows x 24 columns]"
      ]
     },
     "execution_count": 6,
     "metadata": {},
     "output_type": "execute_result"
    }
   ],
   "source": [
    "X_train.head(3)"
   ]
  },
  {
   "cell_type": "markdown",
   "metadata": {},
   "source": [
    "# 1.0 Logistic Regression Classifier"
   ]
  },
  {
   "cell_type": "markdown",
   "metadata": {},
   "source": [
    "## 1.1 Training"
   ]
  },
  {
   "cell_type": "code",
   "execution_count": 20,
   "metadata": {},
   "outputs": [
    {
     "name": "stdout",
     "output_type": "stream",
     "text": [
      "Accuracy: 0.875\n",
      "Precision: 0.871\n",
      "Recall: 0.836\n",
      "F1-Score: 0.853\n"
     ]
    }
   ],
   "source": [
    "# define\n",
    "model = LogisticRegression(C=1.0, solver='newton-cholesky', max_iter=100)\n",
    "\n",
    "# fit\n",
    "model.fit(X_train, y_train)\n",
    "\n",
    "# predict\n",
    "yhat_train = model.predict(X_train)\n",
    "\n",
    "# metrics\n",
    "acc = np.round(mt.accuracy_score(y_train, yhat_train), 3)\n",
    "print(f\"Accuracy: {acc}\")\n",
    "\n",
    "precision = np.round(mt.precision_score(y_train, yhat_train), 3)\n",
    "print(f\"Precision: {precision}\")\n",
    "\n",
    "recall = np.round(mt.recall_score(y_train, yhat_train), 3)\n",
    "print(f\"Recall: {recall}\")\n",
    "\n",
    "f1_score = np.round(mt.f1_score(y_train, yhat_train), 3)\n",
    "print(f\"F1-Score: {f1_score}\")"
   ]
  },
  {
   "cell_type": "markdown",
   "metadata": {},
   "source": [
    "## 1.2 Validation"
   ]
  },
  {
   "cell_type": "code",
   "execution_count": 21,
   "metadata": {},
   "outputs": [
    {
     "name": "stdout",
     "output_type": "stream",
     "text": [
      "Accuracy: 0.874\n",
      "Precision: 0.869\n",
      "Recall: 0.835\n",
      "F1-Score: 0.852\n"
     ]
    }
   ],
   "source": [
    "# define\n",
    "model = LogisticRegression(C=1.0, solver='newton-cholesky', max_iter=100)\n",
    "\n",
    "# fit\n",
    "model.fit(X_train, y_train)\n",
    "\n",
    "# predict\n",
    "yhat_val = model.predict(X_val)\n",
    "\n",
    "# metrics\n",
    "acc = np.round(mt.accuracy_score(y_val, yhat_val), 3)\n",
    "print(f\"Accuracy: {acc}\")\n",
    "\n",
    "precision = np.round(mt.precision_score(y_val, yhat_val), 3)\n",
    "print(f\"Precision: {precision}\")\n",
    "\n",
    "recall = np.round(mt.recall_score(y_val, yhat_val), 3)\n",
    "print(f\"Recall: {recall}\")\n",
    "\n",
    "f1_score = np.round(mt.f1_score(y_val, yhat_val), 3)\n",
    "print(f\"F1-Score: {f1_score}\")"
   ]
  },
  {
   "cell_type": "markdown",
   "metadata": {},
   "source": [
    "## 1.3 Test"
   ]
  },
  {
   "cell_type": "code",
   "execution_count": 22,
   "metadata": {},
   "outputs": [
    {
     "name": "stdout",
     "output_type": "stream",
     "text": [
      "Accuracy: 0.871\n",
      "Precision: 0.869\n",
      "Recall: 0.833\n",
      "F1-Score: 0.85\n"
     ]
    },
    {
     "name": "stderr",
     "output_type": "stream",
     "text": [
      "c:\\Users\\alefa\\anaconda3\\lib\\site-packages\\sklearn\\base.py:413: UserWarning: X has feature names, but LogisticRegression was fitted without feature names\n",
      "  warnings.warn(\n"
     ]
    }
   ],
   "source": [
    "# define\n",
    "model = LogisticRegression(C=1.0, solver='newton-cholesky', max_iter=100)\n",
    "\n",
    "# fit\n",
    "model.fit(np.concatenate((X_train, X_val)), np.concatenate((y_train, y_val)))\n",
    "\n",
    "# predict\n",
    "yhat_test = model.predict(X_test)\n",
    "\n",
    "# metrics\n",
    "acc = np.round(mt.accuracy_score(y_test, yhat_test), 3)\n",
    "print(f\"Accuracy: {acc}\")\n",
    "\n",
    "precision = np.round(mt.precision_score(y_test, yhat_test), 3)\n",
    "print(f\"Precision: {precision}\")\n",
    "\n",
    "recall = np.round(mt.recall_score(y_test, yhat_test), 3)\n",
    "print(f\"Recall: {recall}\")\n",
    "\n",
    "f1_score = np.round(mt.f1_score(y_test, yhat_test), 3)\n",
    "print(f\"F1-Score: {f1_score}\")"
   ]
  }
 ],
 "metadata": {
  "kernelspec": {
   "display_name": "base",
   "language": "python",
   "name": "python3"
  },
  "language_info": {
   "codemirror_mode": {
    "name": "ipython",
    "version": 3
   },
   "file_extension": ".py",
   "mimetype": "text/x-python",
   "name": "python",
   "nbconvert_exporter": "python",
   "pygments_lexer": "ipython3",
   "version": "3.10.14"
  }
 },
 "nbformat": 4,
 "nbformat_minor": 2
}
